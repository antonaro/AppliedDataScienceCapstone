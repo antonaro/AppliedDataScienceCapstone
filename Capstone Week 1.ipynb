{
    "cells": [
        {
            "cell_type": "markdown",
            "metadata": {
                "collapsed": true
            },
            "source": "# Applied Data Science Capstone Project\n\n### Introduction\n\n- This project aims to help a restauranteur to understand the geography of Helsinki to identify strategic location options for a new restaurant to attract locals to enjoy lunch or dinner\n- The project will analyse Helsinki area and provide recommendations based on findings\n\nHelsinki is a diverse waterfront city with active culinary scene offering a wide variety of dining options, but most of them are in the centrally located areas. The opportunities outside central most Helsinki should be identified as locals the aim would be to make dining out more convenient and easy. For many inhabitants the centrally located restaurants require some transportation and if they had an option of neighborhood bistro, that would potentially be greatly appreciated as has been found in neighborhood city of Espoo.\n\n### Data\n\nThe project will use following data sources:\n\n- Foursquare API to retrieve information about current dining options in Helsinki (based on category, location, style etc.)\n- Demographic data is retrieved from StatFi Helsinki related dataset extracted from StatFi portal on postal code level\n- Geographics locations and boundaries are for Helsinki postal codes are retrieved in .KML-file from Capitol Area opean data portal"
        },
        {
            "cell_type": "markdown",
            "metadata": {},
            "source": "### Foursquare"
        },
        {
            "cell_type": "markdown",
            "metadata": {},
            "source": "##### Authorization"
        },
        {
            "cell_type": "code",
            "execution_count": null,
            "metadata": {},
            "outputs": [],
            "source": "CLIENT_ID = 'a' # your Foursquare ID\nCLIENT_SECRET = 'b' # your Foursquare Secret\nACCESS_TOKEN = 'c' # your FourSquare Access Token HXP2KSGDGKNOR4NCTMOKZTAKOLCGG3ARHJPOWNEWKOAPU0SW#_=_\nVERSION = 'd'\nLIMIT = 30\nprint('Your credentails:')\nprint('CLIENT_ID: ' + CLIENT_ID)\nprint('CLIENT_SECRET:' + CLIENT_SECRET)"
        },
        {
            "cell_type": "markdown",
            "metadata": {},
            "source": "##### Sample query using search or category"
        },
        {
            "cell_type": "code",
            "execution_count": 1,
            "metadata": {},
            "outputs": [
                {
                    "ename": "NameError",
                    "evalue": "name 'Nominatim' is not defined",
                    "output_type": "error",
                    "traceback": [
                        "\u001b[0;31m---------------------------------------------------------------------------\u001b[0m",
                        "\u001b[0;31mNameError\u001b[0m                                 Traceback (most recent call last)",
                        "\u001b[0;32m<ipython-input-1-9cbef2dd3523>\u001b[0m in \u001b[0;36m<module>\u001b[0;34m\u001b[0m\n\u001b[1;32m      8\u001b[0m \u001b[0;34m\u001b[0m\u001b[0m\n\u001b[1;32m      9\u001b[0m \u001b[0;31m# Retrieve coordinates\u001b[0m\u001b[0;34m\u001b[0m\u001b[0;34m\u001b[0m\u001b[0;34m\u001b[0m\u001b[0m\n\u001b[0;32m---> 10\u001b[0;31m \u001b[0mgeolocator\u001b[0m \u001b[0;34m=\u001b[0m \u001b[0mNominatim\u001b[0m\u001b[0;34m(\u001b[0m\u001b[0muser_agent\u001b[0m\u001b[0;34m=\u001b[0m\u001b[0;34m\"foursquare_agent\"\u001b[0m\u001b[0;34m)\u001b[0m\u001b[0;34m\u001b[0m\u001b[0;34m\u001b[0m\u001b[0m\n\u001b[0m\u001b[1;32m     11\u001b[0m \u001b[0mlocation\u001b[0m \u001b[0;34m=\u001b[0m \u001b[0mgeolocator\u001b[0m\u001b[0;34m.\u001b[0m\u001b[0mgeocode\u001b[0m\u001b[0;34m(\u001b[0m\u001b[0maddress\u001b[0m\u001b[0;34m)\u001b[0m\u001b[0;34m\u001b[0m\u001b[0;34m\u001b[0m\u001b[0m\n\u001b[1;32m     12\u001b[0m \u001b[0mlatitude\u001b[0m \u001b[0;34m=\u001b[0m \u001b[0mlocation\u001b[0m\u001b[0;34m.\u001b[0m\u001b[0mlatitude\u001b[0m\u001b[0;34m\u001b[0m\u001b[0;34m\u001b[0m\u001b[0m\n",
                        "\u001b[0;31mNameError\u001b[0m: name 'Nominatim' is not defined"
                    ]
                }
            ],
            "source": "# Parameters\n\nsearch_query = None\ncategory_id = 'a' #FOOD\nradius = 1000 # in meters\naddress = 'a'\nLIMIT = 10000000\n\n# Retrieve coordinates\ngeolocator = Nominatim(user_agent=\"foursquare_agent\")\nlocation = geolocator.geocode(address)\nlatitude = location.latitude\nlongitude = location.longitude\nprint(latitude, longitude)\n\n# Category ID used\nif search_query == None and category_id != None:\n    url = 'https://api.foursquare.com/v2/venues/search?client_id={}&client_secret={}&ll={},{}&oauth_token={}&v={}&categoryId={}&radius={}&limit={}'.format(CLIENT_ID, CLIENT_SECRET, latitude, longitude,ACCESS_TOKEN, VERSION, category_id, radius, LIMIT)\n    print('Category ID used: ' + category_id)\n# Search_query used\nelif search_query != None and category_id == None:\n    url = 'https://api.foursquare.com/v2/venues/search?client_id={}&client_secret={}&ll={},{}&oauth_token={}&v={}&query={}&radius={}&limit={}'.format(CLIENT_ID, CLIENT_SECRET, latitude, longitude,ACCESS_TOKEN, VERSION, search_query, radius, LIMIT)\n    print('Search query: ' + search_query)\n# If both in use or both equal to noe\nelif search_query == None and category_id == None:\n    print('Check parameters')\nelif search_query == None and category_id == None:\n    print('Check parameters')\n\n# get results\nresults = requests.get(url).json()\n# assign relevant part of JSON to venues\nvenues = results['response']['venues']\n\n# tranform venues into a dataframe\ndataframe = json_normalize(venues)\n\ndataframe.head()"
        },
        {
            "cell_type": "markdown",
            "metadata": {},
            "source": "### StatFI demographics"
        },
        {
            "cell_type": "code",
            "execution_count": 3,
            "metadata": {},
            "outputs": [
                {
                    "data": {
                        "text/html": "<div>\n<style scoped>\n    .dataframe tbody tr th:only-of-type {\n        vertical-align: middle;\n    }\n\n    .dataframe tbody tr th {\n        vertical-align: top;\n    }\n\n    .dataframe thead th {\n        text-align: right;\n    }\n</style>\n<table border=\"1\" class=\"dataframe\">\n  <thead>\n    <tr style=\"text-align: right;\">\n      <th></th>\n      <th>Area</th>\n      <th>X coordinate in metres</th>\n      <th>Y coordinate in metres</th>\n      <th>Surface area</th>\n      <th>Inhabitants, total, 2019 (HE)</th>\n      <th>Males, 2019 (HE)</th>\n      <th>Females, 2019 (HE)</th>\n      <th>Average age of inhabitants, 2019 (HE)</th>\n      <th>0-2 years, 2019 (HE)</th>\n      <th>3-6 years, 2019 (HE)</th>\n      <th>...</th>\n      <th>U Activities of extraterritorial organisations and bodies, 2018 (TP)</th>\n      <th>X Industry unknown, 2018 (TP)</th>\n      <th>Inhabitants, 2018 (PT)</th>\n      <th>Employed, 2018 (PT)</th>\n      <th>Unemployed, 2018 (PT)</th>\n      <th>Children aged 0 to 14, 2018 (PT)</th>\n      <th>Students, 2018 (PT)</th>\n      <th>Pensioners, 2018 (PT)</th>\n      <th>Others, 2018 (PT)</th>\n      <th>Name</th>\n    </tr>\n  </thead>\n  <tbody>\n    <tr>\n      <th>0</th>\n      <td>00100  Helsinki Keskusta - Etu-T\u00f6\u00f6l\u00f6 (Helsinki)</td>\n      <td>384979.0</td>\n      <td>6672361.0</td>\n      <td>2353278.0</td>\n      <td>18334.0</td>\n      <td>8661.0</td>\n      <td>9673.0</td>\n      <td>41.0</td>\n      <td>402.0</td>\n      <td>507.0</td>\n      <td>...</td>\n      <td>15.0</td>\n      <td>3.0</td>\n      <td>18427.0</td>\n      <td>10576.0</td>\n      <td>607.0</td>\n      <td>1846.0</td>\n      <td>1227.0</td>\n      <td>3420.0</td>\n      <td>751.0</td>\n      <td>00100</td>\n    </tr>\n    <tr>\n      <th>1</th>\n      <td>00120  Punavuori (Helsinki)</td>\n      <td>385531.0</td>\n      <td>6671434.0</td>\n      <td>414010.0</td>\n      <td>7140.0</td>\n      <td>3379.0</td>\n      <td>3761.0</td>\n      <td>41.0</td>\n      <td>151.0</td>\n      <td>232.0</td>\n      <td>...</td>\n      <td>0.0</td>\n      <td>0.0</td>\n      <td>7161.0</td>\n      <td>4081.0</td>\n      <td>241.0</td>\n      <td>829.0</td>\n      <td>419.0</td>\n      <td>1243.0</td>\n      <td>348.0</td>\n      <td>00120</td>\n    </tr>\n    <tr>\n      <th>2</th>\n      <td>00130  Kaartinkaupunki (Helsinki)</td>\n      <td>386244.0</td>\n      <td>6671474.0</td>\n      <td>428960.0</td>\n      <td>1582.0</td>\n      <td>763.0</td>\n      <td>819.0</td>\n      <td>41.0</td>\n      <td>41.0</td>\n      <td>45.0</td>\n      <td>...</td>\n      <td>11.0</td>\n      <td>0.0</td>\n      <td>1523.0</td>\n      <td>876.0</td>\n      <td>37.0</td>\n      <td>172.0</td>\n      <td>86.0</td>\n      <td>266.0</td>\n      <td>86.0</td>\n      <td>00130</td>\n    </tr>\n    <tr>\n      <th>3</th>\n      <td>00140  Kaivopuisto - Ullanlinna (Helsinki)</td>\n      <td>386394.0</td>\n      <td>6670766.0</td>\n      <td>931841.0</td>\n      <td>7958.0</td>\n      <td>3625.0</td>\n      <td>4333.0</td>\n      <td>42.0</td>\n      <td>192.0</td>\n      <td>259.0</td>\n      <td>...</td>\n      <td>0.0</td>\n      <td>0.0</td>\n      <td>7921.0</td>\n      <td>4251.0</td>\n      <td>261.0</td>\n      <td>986.0</td>\n      <td>459.0</td>\n      <td>1530.0</td>\n      <td>434.0</td>\n      <td>00140</td>\n    </tr>\n    <tr>\n      <th>4</th>\n      <td>00150  Eira - Hernesaari (Helsinki)</td>\n      <td>385320.0</td>\n      <td>6670373.0</td>\n      <td>1367328.0</td>\n      <td>9420.0</td>\n      <td>4323.0</td>\n      <td>5097.0</td>\n      <td>40.0</td>\n      <td>221.0</td>\n      <td>268.0</td>\n      <td>...</td>\n      <td>7.0</td>\n      <td>0.0</td>\n      <td>9385.0</td>\n      <td>5514.0</td>\n      <td>364.0</td>\n      <td>957.0</td>\n      <td>527.0</td>\n      <td>1544.0</td>\n      <td>479.0</td>\n      <td>00150</td>\n    </tr>\n    <tr>\n      <th>...</th>\n      <td>...</td>\n      <td>...</td>\n      <td>...</td>\n      <td>...</td>\n      <td>...</td>\n      <td>...</td>\n      <td>...</td>\n      <td>...</td>\n      <td>...</td>\n      <td>...</td>\n      <td>...</td>\n      <td>...</td>\n      <td>...</td>\n      <td>...</td>\n      <td>...</td>\n      <td>...</td>\n      <td>...</td>\n      <td>...</td>\n      <td>...</td>\n      <td>...</td>\n      <td>...</td>\n    </tr>\n    <tr>\n      <th>79</th>\n      <td>00950  Vartioharju (Helsinki)</td>\n      <td>394996.0</td>\n      <td>6677673.0</td>\n      <td>3135342.0</td>\n      <td>6189.0</td>\n      <td>2999.0</td>\n      <td>3190.0</td>\n      <td>41.0</td>\n      <td>166.0</td>\n      <td>263.0</td>\n      <td>...</td>\n      <td>0.0</td>\n      <td>0.0</td>\n      <td>6060.0</td>\n      <td>2952.0</td>\n      <td>234.0</td>\n      <td>1058.0</td>\n      <td>417.0</td>\n      <td>1233.0</td>\n      <td>166.0</td>\n      <td>00950</td>\n    </tr>\n    <tr>\n      <th>80</th>\n      <td>00960  Pohjois-Vuosaari (Helsinki)</td>\n      <td>397097.0</td>\n      <td>6677756.0</td>\n      <td>2504021.0</td>\n      <td>7246.0</td>\n      <td>3484.0</td>\n      <td>3762.0</td>\n      <td>43.0</td>\n      <td>185.0</td>\n      <td>301.0</td>\n      <td>...</td>\n      <td>0.0</td>\n      <td>0.0</td>\n      <td>7192.0</td>\n      <td>3272.0</td>\n      <td>414.0</td>\n      <td>1070.0</td>\n      <td>482.0</td>\n      <td>1657.0</td>\n      <td>297.0</td>\n      <td>00960</td>\n    </tr>\n    <tr>\n      <th>81</th>\n      <td>00970  Mellunm\u00e4ki (Helsinki)</td>\n      <td>396111.0</td>\n      <td>6678982.0</td>\n      <td>3453709.0</td>\n      <td>10782.0</td>\n      <td>5093.0</td>\n      <td>5689.0</td>\n      <td>43.0</td>\n      <td>312.0</td>\n      <td>439.0</td>\n      <td>...</td>\n      <td>0.0</td>\n      <td>0.0</td>\n      <td>10637.0</td>\n      <td>4534.0</td>\n      <td>748.0</td>\n      <td>1556.0</td>\n      <td>782.0</td>\n      <td>2545.0</td>\n      <td>472.0</td>\n      <td>00970</td>\n    </tr>\n    <tr>\n      <th>82</th>\n      <td>00980  Etel\u00e4-Vuosaari (Helsinki)</td>\n      <td>396443.0</td>\n      <td>6675954.0</td>\n      <td>10710384.0</td>\n      <td>23223.0</td>\n      <td>10784.0</td>\n      <td>12439.0</td>\n      <td>41.0</td>\n      <td>753.0</td>\n      <td>1124.0</td>\n      <td>...</td>\n      <td>0.0</td>\n      <td>0.0</td>\n      <td>23183.0</td>\n      <td>9303.0</td>\n      <td>1698.0</td>\n      <td>4098.0</td>\n      <td>1967.0</td>\n      <td>4869.0</td>\n      <td>1248.0</td>\n      <td>00980</td>\n    </tr>\n    <tr>\n      <th>83</th>\n      <td>00990  Aurinkolahti (Helsinki)</td>\n      <td>398295.0</td>\n      <td>6675382.0</td>\n      <td>2565419.0</td>\n      <td>8555.0</td>\n      <td>3984.0</td>\n      <td>4571.0</td>\n      <td>42.0</td>\n      <td>259.0</td>\n      <td>357.0</td>\n      <td>...</td>\n      <td>0.0</td>\n      <td>0.0</td>\n      <td>8587.0</td>\n      <td>4111.0</td>\n      <td>350.0</td>\n      <td>1380.0</td>\n      <td>450.0</td>\n      <td>1950.0</td>\n      <td>346.0</td>\n      <td>00990</td>\n    </tr>\n  </tbody>\n</table>\n<p>84 rows \u00d7 108 columns</p>\n</div>",
                        "text/plain": "                                               Area  X coordinate in metres  \\\n0   00100  Helsinki Keskusta - Etu-T\u00f6\u00f6l\u00f6 (Helsinki)                384979.0   \n1                       00120  Punavuori (Helsinki)                385531.0   \n2                 00130  Kaartinkaupunki (Helsinki)                386244.0   \n3        00140  Kaivopuisto - Ullanlinna (Helsinki)                386394.0   \n4               00150  Eira - Hernesaari (Helsinki)                385320.0   \n..                                              ...                     ...   \n79                    00950  Vartioharju (Helsinki)                394996.0   \n80               00960  Pohjois-Vuosaari (Helsinki)                397097.0   \n81                     00970  Mellunm\u00e4ki (Helsinki)                396111.0   \n82                 00980  Etel\u00e4-Vuosaari (Helsinki)                396443.0   \n83                   00990  Aurinkolahti (Helsinki)                398295.0   \n\n    Y coordinate in metres  Surface area  Inhabitants, total, 2019 (HE)  \\\n0                6672361.0     2353278.0                        18334.0   \n1                6671434.0      414010.0                         7140.0   \n2                6671474.0      428960.0                         1582.0   \n3                6670766.0      931841.0                         7958.0   \n4                6670373.0     1367328.0                         9420.0   \n..                     ...           ...                            ...   \n79               6677673.0     3135342.0                         6189.0   \n80               6677756.0     2504021.0                         7246.0   \n81               6678982.0     3453709.0                        10782.0   \n82               6675954.0    10710384.0                        23223.0   \n83               6675382.0     2565419.0                         8555.0   \n\n    Males, 2019 (HE)  Females, 2019 (HE)  \\\n0             8661.0              9673.0   \n1             3379.0              3761.0   \n2              763.0               819.0   \n3             3625.0              4333.0   \n4             4323.0              5097.0   \n..               ...                 ...   \n79            2999.0              3190.0   \n80            3484.0              3762.0   \n81            5093.0              5689.0   \n82           10784.0             12439.0   \n83            3984.0              4571.0   \n\n    Average age of inhabitants, 2019 (HE)  0-2 years, 2019 (HE)  \\\n0                                    41.0                 402.0   \n1                                    41.0                 151.0   \n2                                    41.0                  41.0   \n3                                    42.0                 192.0   \n4                                    40.0                 221.0   \n..                                    ...                   ...   \n79                                   41.0                 166.0   \n80                                   43.0                 185.0   \n81                                   43.0                 312.0   \n82                                   41.0                 753.0   \n83                                   42.0                 259.0   \n\n    3-6 years, 2019 (HE)  ...  \\\n0                  507.0  ...   \n1                  232.0  ...   \n2                   45.0  ...   \n3                  259.0  ...   \n4                  268.0  ...   \n..                   ...  ...   \n79                 263.0  ...   \n80                 301.0  ...   \n81                 439.0  ...   \n82                1124.0  ...   \n83                 357.0  ...   \n\n    U Activities of extraterritorial organisations and bodies, 2018 (TP)  \\\n0                                                15.0                      \n1                                                 0.0                      \n2                                                11.0                      \n3                                                 0.0                      \n4                                                 7.0                      \n..                                                ...                      \n79                                                0.0                      \n80                                                0.0                      \n81                                                0.0                      \n82                                                0.0                      \n83                                                0.0                      \n\n    X Industry unknown, 2018 (TP)  Inhabitants, 2018 (PT)  \\\n0                             3.0                 18427.0   \n1                             0.0                  7161.0   \n2                             0.0                  1523.0   \n3                             0.0                  7921.0   \n4                             0.0                  9385.0   \n..                            ...                     ...   \n79                            0.0                  6060.0   \n80                            0.0                  7192.0   \n81                            0.0                 10637.0   \n82                            0.0                 23183.0   \n83                            0.0                  8587.0   \n\n    Employed, 2018 (PT)  Unemployed, 2018 (PT)  \\\n0               10576.0                  607.0   \n1                4081.0                  241.0   \n2                 876.0                   37.0   \n3                4251.0                  261.0   \n4                5514.0                  364.0   \n..                  ...                    ...   \n79               2952.0                  234.0   \n80               3272.0                  414.0   \n81               4534.0                  748.0   \n82               9303.0                 1698.0   \n83               4111.0                  350.0   \n\n    Children aged 0 to 14, 2018 (PT)  Students, 2018 (PT)  \\\n0                             1846.0               1227.0   \n1                              829.0                419.0   \n2                              172.0                 86.0   \n3                              986.0                459.0   \n4                              957.0                527.0   \n..                               ...                  ...   \n79                            1058.0                417.0   \n80                            1070.0                482.0   \n81                            1556.0                782.0   \n82                            4098.0               1967.0   \n83                            1380.0                450.0   \n\n    Pensioners, 2018 (PT)  Others, 2018 (PT)   Name  \n0                  3420.0              751.0  00100  \n1                  1243.0              348.0  00120  \n2                   266.0               86.0  00130  \n3                  1530.0              434.0  00140  \n4                  1544.0              479.0  00150  \n..                    ...                ...    ...  \n79                 1233.0              166.0  00950  \n80                 1657.0              297.0  00960  \n81                 2545.0              472.0  00970  \n82                 4869.0             1248.0  00980  \n83                 1950.0              346.0  00990  \n\n[84 rows x 108 columns]"
                    },
                    "execution_count": 3,
                    "metadata": {},
                    "output_type": "execute_result"
                }
            ],
            "source": "# The code was removed by Watson Studio for sharing."
        },
        {
            "cell_type": "markdown",
            "metadata": {},
            "source": "### Geographics location data of postal codes"
        },
        {
            "cell_type": "code",
            "execution_count": null,
            "metadata": {},
            "outputs": [],
            "source": "from pykml import parser\nimport urllib.request as urllib2\nimport geopandas as gpd\nimport fiona\n\nkml_url_hel_postcode = \"https://avoidatastr.blob.core.windows.net/avoindata/AvoinData/9_Kartat/PKS%20postinumeroalueet/Kml/Pks_postinumeroalueet_2020.kml\"\n\nfileobject = urllib2.urlopen(kml_url_hel_postcode)\n\nroot = parser.parse(fileobject).getroot()\n\nprint(root.Document.Folder)\n\ngpd.io.file.fiona.drvsupport.supported_drivers['KML'] = 'rw'\ndf_post_code_1 = gpd.read_file(kml_url_hel_postcode, driver='KML')\n\ndf_post_code_1['PostCode'] = df_post_code['Name']\n\n\ndf_post_code_2 = df_post_code_1[df_post_code_1['Name'].str.startswith(\"00\")]\n#pd.to_numeric(df_post_code['PostCode'])\n\n"
        },
        {
            "cell_type": "markdown",
            "metadata": {},
            "source": "### Merge demographics and locations"
        },
        {
            "cell_type": "code",
            "execution_count": null,
            "metadata": {},
            "outputs": [],
            "source": "df_post_code_3 = df_post_code_2.merge(data, how='inner', on='Name')\ndf_post_code_3"
        }
    ],
    "metadata": {
        "kernelspec": {
            "display_name": "Python 3.7",
            "language": "python",
            "name": "python3"
        },
        "language_info": {
            "codemirror_mode": {
                "name": "ipython",
                "version": 3
            },
            "file_extension": ".py",
            "mimetype": "text/x-python",
            "name": "python",
            "nbconvert_exporter": "python",
            "pygments_lexer": "ipython3",
            "version": "3.7.10"
        }
    },
    "nbformat": 4,
    "nbformat_minor": 1
}